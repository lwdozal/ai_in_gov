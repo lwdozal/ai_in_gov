{
 "cells": [
  {
   "cell_type": "markdown",
   "metadata": {},
   "source": [
    "Convert PDFs to text"
   ]
  },
  {
   "cell_type": "code",
   "execution_count": 13,
   "metadata": {},
   "outputs": [],
   "source": [
    "# %pip install PyPDF2\n",
    "# %pip install openpyxl==3.0.10\n",
    "# %pip install pdfplumber\n",
    "# %pip install tika\n",
    "# %pip install PyMuPDF pandas\n",
    "# %pip install pdf2image pytesseract pillow\n"
   ]
  },
  {
   "cell_type": "code",
   "execution_count": 1,
   "metadata": {},
   "outputs": [],
   "source": [
    "import os\n",
    "from pdf2image import convert_from_path\n",
    "import pytesseract\n",
    "pytesseract.pytesseract.tesseract_cmd = r'C:\\Program Files\\Tesseract-OCR\\tesseract.exe'\n",
    "\n",
    "\n",
    "import fitz  # PyMuPDF\n",
    "import pandas as pd\n",
    "\n",
    "from pdf2image import convert_from_path\n"
   ]
  },
  {
   "cell_type": "markdown",
   "metadata": {},
   "source": [
    "preliminary test on the data (Did not work)"
   ]
  },
  {
   "cell_type": "code",
   "execution_count": null,
   "metadata": {},
   "outputs": [
    {
     "name": "stdout",
     "output_type": "stream",
     "text": [
      "6\n"
     ]
    },
    {
     "data": {
      "text/plain": [
       "''"
      ]
     },
     "execution_count": 9,
     "metadata": {},
     "output_type": "execute_result"
    }
   ],
   "source": [
    "\n",
    "\n",
    "#### pdfreader\n",
    "# test = PdfReader(\"pdf_data/ARG-1472-D-2023.pdf\")\n",
    "# test = PdfReader(\"pdf_data/CA-2885.pdf\")\n",
    "# pg_num = len(test.pages)\n",
    "# test_page = test.pages[0]\n",
    "\n",
    "# print(pg_num)\n",
    "# test_page.extract_text()\n",
    "\n",
    "\n",
    "# #### pdfplumber\n",
    "# pdf = pdfplumber.open(\"pdf_data/ARG-1472-D-2023.pdf\")\n",
    "# pg_num = len(pdf.pages)\n",
    "# print(pg_num)\n",
    "# page = pdf.pages[0]\n",
    "# text = page.extract_text()\n",
    "# print(text)\n",
    "# # pdf.close()\n",
    "\n",
    "\n",
    "# #### tika\n",
    "# rawText = parser.from_file(\"pdf_data/ARG-1472-D-2023.pdf\")\n",
    "\n",
    "# rawList = rawText['content'].splitlines()\n",
    "# print(rawList)\n"
   ]
  },
  {
   "cell_type": "markdown",
   "metadata": {},
   "source": [
    "Look at: https://github.com/lwdozal/Chat-with-your-Research-Articles-LLM-Retrieval-Augmented-Generation/blob/main/Intermediate%20RAG%20(prefilled).ipynb\n",
    "\n",
    "To start creating embeddings for RAG (This might be an easier start for us, and might still hold some buzzword hype)"
   ]
  },
  {
   "cell_type": "code",
   "execution_count": 3,
   "metadata": {},
   "outputs": [
    {
     "name": "stdout",
     "output_type": "stream",
     "text": [
      "working on: pdf_data\\ARG-1472-D-2023.pdf\n",
      "working on: pdf_data\\CA-2885.pdf\n",
      "working on: pdf_data\\CA-AB2013.pdf\n",
      "working on: pdf_data\\CA-AJR6.pdf\n",
      "working on: pdf_data\\CA-SB1047.pdf\n",
      "working on: pdf_data\\CA-SB942.pdf\n",
      "working on: pdf_data\\CO-CAIA.pdf\n",
      "working on: pdf_data\\EU-2024-1689.pdf\n",
      "OCR error on EU-2024-1689.pdf: Unable to get page count.\n",
      "Syntax Error: Couldn't find trailer dictionary\n",
      "Syntax Error: Couldn't find trailer dictionary\n",
      "Syntax Error: Couldn't read xref table\n",
      "\n",
      "working on: pdf_data\\FL-S1680.pdf\n",
      "working on: pdf_data\\IL-H4705.pdf\n",
      "working on: pdf_data\\IL-H4836.pdf\n",
      "working on: pdf_data\\IL-H4844.pdf\n",
      "working on: pdf_data\\IN-AI_task_Force.pdf\n",
      "working on: pdf_data\\MD-818.pdf\n",
      "working on: pdf_data\\MEX.pdf\n",
      "working on: pdf_data\\NH_H1688.pdf\n",
      "working on: pdf_data\\NJ-S3357.pdf\n",
      "working on: pdf_data\\NY-A8129.pdf\n",
      "working on: pdf_data\\OR-H4153.pdf\n",
      "working on: pdf_data\\PA-H49.pdf\n",
      "working on: pdf_data\\PA-HR170.pdf\n",
      "working on: pdf_data\\RI-S117.pdf\n",
      "working on: pdf_data\\TN-H2325.pdf\n",
      "working on: pdf_data\\UK.pdf\n",
      "working on: pdf_data\\UT-S149.pdf\n",
      "working on: pdf_data\\UT-SB0149.pdf\n",
      "working on: pdf_data\\VA-H747.pdf\n",
      "working on: pdf_data\\VA-S487.pdf\n",
      "working on: pdf_data\\VT-H710.pdf\n",
      "working on: pdf_data\\WA-1168.pdf\n",
      "working on: pdf_data\\WA-1170.pdf\n",
      "working on: pdf_data\\WA-5838-S2.PL.pdf\n",
      "working on: pdf_data\\WI-A664.pdf\n",
      "working on: pdf_data\\WV-H5690.pdf\n"
     ]
    }
   ],
   "source": [
    "#identify the dataset\n",
    "pdf_dir = \"pdf_data\"\n",
    "pdf_data = []\n",
    "# pdf_pg_num = []\n",
    "# file = []\n",
    "# text = \n",
    "\n",
    "# Loop through all PDF files in the directory\n",
    "for filename in os.listdir(pdf_dir):\n",
    "    if filename.endswith('.pdf'):\n",
    "        file_path = os.path.join(pdf_dir, filename)\n",
    "        print(\"working on:\", file_path)\n",
    "\n",
    "        try:\n",
    "\n",
    "            #convert file to image\n",
    "            images = convert_from_path(file_path, poppler_path=r\"C:\\poppler-24.08.0\\Library\\bin\")\n",
    "            # Extract the text from all pages\n",
    "            text = []\n",
    "            for img in images:\n",
    "                text.append(pytesseract.image_to_string(img))\n",
    "\n",
    "                # Get PDF metadata\n",
    "                # Open the PDF file\n",
    "            doc = fitz.open(file_path)\n",
    "                # text = []\n",
    "                # for page in doc:\n",
    "                #     text.append(page.get_text())\n",
    "            metadata = doc.metadata\n",
    "            page_count = doc.page_count\n",
    "\n",
    "\n",
    "            # Create a dictionary to convert to dataframe\n",
    "            pdf_data.append({\n",
    "                'filename': filename,\n",
    "                'text': text,\n",
    "                'page_count': page_count,\n",
    "                'creator': metadata.get('creator'),\n",
    "                'producer': metadata.get('producer'),\n",
    "                'subject': metadata.get('subject'),\n",
    "                'keywords': metadata.get('keywords'),\n",
    "                'title': metadata.get('title'),\n",
    "                'creation_date': metadata.get('creationDate'),\n",
    "            })\n",
    "\n",
    "            doc.close()\n",
    "\n",
    "        except Exception as e:\n",
    "            print(f\"OCR error on {filename}: {e}\")\n",
    "            \n",
    "# Convert to DataFrame\n",
    "df = pd.DataFrame(pdf_data)\n",
    "\n",
    "# Save to CSV or any other format\n",
    "df.to_csv('legal_pdfs_dataset.csv', index=False)\n"
   ]
  }
 ],
 "metadata": {
  "kernelspec": {
   "display_name": "Python 3",
   "language": "python",
   "name": "python3"
  },
  "language_info": {
   "codemirror_mode": {
    "name": "ipython",
    "version": 3
   },
   "file_extension": ".py",
   "mimetype": "text/x-python",
   "name": "python",
   "nbconvert_exporter": "python",
   "pygments_lexer": "ipython3",
   "version": "3.12.3"
  }
 },
 "nbformat": 4,
 "nbformat_minor": 2
}
